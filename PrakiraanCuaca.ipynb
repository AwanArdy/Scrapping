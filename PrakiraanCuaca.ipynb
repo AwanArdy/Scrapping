{
 "cells": [
  {
   "cell_type": "code",
   "execution_count": 1,
   "metadata": {},
   "outputs": [],
   "source": [
    "import requests\n",
    "import xml.etree.cElementTree as ET\n",
    "import pandas as pd"
   ]
  },
  {
   "cell_type": "code",
   "execution_count": 2,
   "metadata": {},
   "outputs": [],
   "source": [
    "# URL dari data XML\n",
    "url = 'https://data.bmkg.go.id/DataMKG/MEWS/DigitalForecast/DigitalForecast-SulawesiTengah.xml'"
   ]
  },
  {
   "cell_type": "code",
   "execution_count": 3,
   "metadata": {},
   "outputs": [],
   "source": [
    "# Fungsi untuk mengunduh dan mengurai data XML\n",
    "def get_weather_data(url):\n",
    "    response = requests.get(url)\n",
    "    response.raise_for_status()  # Memeriksa apakah permintaan berhasil\n",
    "    xml_data = response.content\n",
    "\n",
    "    # Parse XML\n",
    "    tree = ET.ElementTree(ET.fromstring(xml_data))\n",
    "    root = tree.getroot()\n",
    "\n",
    "    # Data yang akan diambil\n",
    "    data = []\n",
    "\n",
    "    # Menjelajahi elemen di dalam XML\n",
    "    for area in root.findall('forecast/area'):\n",
    "        area_name = area.get('description')\n",
    "        area_id = area.get('id')\n",
    "        \n",
    "        for parameter in area.findall('parameter'):\n",
    "            parameter_id = parameter.get('id')\n",
    "            parameter_description = parameter.get('description')\n",
    "            \n",
    "            for timerange in parameter.findall('timerange'):\n",
    "                datetime = timerange.get('datetime')\n",
    "                \n",
    "                for value in timerange.findall('value'):\n",
    "                    value_type = value.get('type')\n",
    "                    value_text = value.text\n",
    "                    \n",
    "                    data.append({\n",
    "                        'area_id': area_id,\n",
    "                        'area_name': area_name,\n",
    "                        'parameter_id': parameter_id,\n",
    "                        'parameter_description': parameter_description,\n",
    "                        'datetime': datetime,\n",
    "                        'value_type': value_type,\n",
    "                        'value_text': value_text\n",
    "                    })\n",
    "                    \n",
    "    return data"
   ]
  },
  {
   "cell_type": "code",
   "execution_count": 4,
   "metadata": {},
   "outputs": [],
   "source": [
    "# Fungsi untuk menyimpan data ke CSV\n",
    "def save_to_csv(data, filename):\n",
    "    df = pd.DataFrame(data)\n",
    "    df.to_csv(filename, index=False)"
   ]
  },
  {
   "cell_type": "code",
   "execution_count": 5,
   "metadata": {},
   "outputs": [],
   "source": [
    "# Mengambil data prakiraan cuaca\n",
    "weather_data = get_weather_data(url)"
   ]
  },
  {
   "cell_type": "code",
   "execution_count": 6,
   "metadata": {},
   "outputs": [
    {
     "name": "stdout",
     "output_type": "stream",
     "text": [
      "  area_id area_name parameter_id parameter_description      datetime  \\\n",
      "0  501520    Ampana           hu              Humidity  202406180000   \n",
      "1  501520    Ampana           hu              Humidity  202406180600   \n",
      "2  501520    Ampana           hu              Humidity  202406181200   \n",
      "3  501520    Ampana           hu              Humidity  202406181800   \n",
      "4  501520    Ampana           hu              Humidity  202406190000   \n",
      "\n",
      "  value_type value_text  \n",
      "0       None         90  \n",
      "1       None         80  \n",
      "2       None         95  \n",
      "3       None         90  \n",
      "4       None         90  \n"
     ]
    }
   ],
   "source": [
    "# Menampilkan data dalam bentuk tabel\n",
    "df_weather = pd.DataFrame(weather_data)\n",
    "print(df_weather.head())"
   ]
  },
  {
   "cell_type": "code",
   "execution_count": 7,
   "metadata": {},
   "outputs": [],
   "source": [
    "# Menyimpan data ke dalam file CSV\n",
    "save_to_csv(weather_data, 'prakiraan_cuaca_sulawesi_tengah.csv')"
   ]
  }
 ],
 "metadata": {
  "kernelspec": {
   "display_name": "Python 3",
   "language": "python",
   "name": "python3"
  },
  "language_info": {
   "codemirror_mode": {
    "name": "ipython",
    "version": 3
   },
   "file_extension": ".py",
   "mimetype": "text/x-python",
   "name": "python",
   "nbconvert_exporter": "python",
   "pygments_lexer": "ipython3",
   "version": "3.12.2"
  }
 },
 "nbformat": 4,
 "nbformat_minor": 2
}
